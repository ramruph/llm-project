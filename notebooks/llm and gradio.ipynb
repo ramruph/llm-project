{
 "cells": [
  {
   "cell_type": "markdown",
   "id": "2a60395b",
   "metadata": {},
   "source": [
    "# Gradio UI for LLM \n",
    "\n",
    "This project will build a User Interface for a llm project"
   ]
  },
  {
   "cell_type": "code",
   "execution_count": 1,
   "id": "690eb571",
   "metadata": {},
   "outputs": [],
   "source": [
    "import os\n",
    "import requests\n",
    "import json\n",
    "from typing import List\n",
    "from bs4 import BeautifulSoup\n",
    "from IPython.display import Markdown, display, update_display \n",
    "from openai import OpenAI"
   ]
  },
  {
   "cell_type": "code",
   "execution_count": 4,
   "id": "341f0ce0",
   "metadata": {},
   "outputs": [
    {
     "name": "stderr",
     "output_type": "stream",
     "text": [
      "/opt/anaconda3/envs/llms/lib/python3.13/site-packages/tqdm/auto.py:21: TqdmWarning: IProgress not found. Please update jupyter and ipywidgets. See https://ipywidgets.readthedocs.io/en/stable/user_install.html\n",
      "  from .autonotebook import tqdm as notebook_tqdm\n"
     ]
    }
   ],
   "source": [
    "# importing gradio \n",
    "import gradio as gr"
   ]
  },
  {
   "cell_type": "code",
   "execution_count": null,
   "id": "cf86aff0",
   "metadata": {},
   "outputs": [],
   "source": [
    "#initializing constants\n",
    "llama_url = 'http://localhost:11434/v1'\n",
    "llama_api_url = \"http://localhost:11434/api/chat\"\n",
    "Headers = {\"Content-Type\": \"application/json\"}\n",
    "Model = \"llama3.1\""
   ]
  },
  {
   "cell_type": "code",
   "execution_count": null,
   "id": "ad1911b8",
   "metadata": {},
   "outputs": [],
   "source": [
    "# A generic system message\n",
    "system_message = \"You are a helpful assistant\""
   ]
  },
  {
   "cell_type": "code",
   "execution_count": null,
   "id": "d12663c8",
   "metadata": {},
   "outputs": [],
   "source": [
    "# initialize the ollama local model\n",
    "\n",
    "def message_llama(prompt):\n",
    "    ollama = OpenAI()\n",
    "\n"
   ]
  }
 ],
 "metadata": {
  "kernelspec": {
   "display_name": "llms",
   "language": "python",
   "name": "python3"
  },
  "language_info": {
   "codemirror_mode": {
    "name": "ipython",
    "version": 3
   },
   "file_extension": ".py",
   "mimetype": "text/x-python",
   "name": "python",
   "nbconvert_exporter": "python",
   "pygments_lexer": "ipython3",
   "version": "3.13.5"
  }
 },
 "nbformat": 4,
 "nbformat_minor": 5
}
