{
 "cells": [
  {
   "cell_type": "markdown",
   "id": "b5a0d6bc",
   "metadata": {},
   "source": [
    "# Airline Assistant Project\n",
    "\n",
    "Creating a chat assistant for a airline company and arms it with tool capability for pricing reference"
   ]
  },
  {
   "cell_type": "markdown",
   "id": "5bb67ebc",
   "metadata": {},
   "source": [
    "## Agent Framework\n",
    "\n",
    "The term 'Agentic AI' and Agentization is an umbrella term that refers to a number of techniques, such as:\n",
    "\n",
    "1. Breaking a complex problem into smaller steps, with multiple LLMs carrying out specialized tasks\n",
    "2. The ability for LLMs to use Tools to give them additional capabilities\n",
    "3. The 'Agent Environment' which allows Agents to collaborate\n",
    "4. An LLM can act as the Planner, dividing bigger tasks into smaller ones for the specialists\n",
    "5. The concept of an Agent having autonomy / agency, beyond just responding to a prompt - such as Memory\n"
   ]
  },
  {
   "cell_type": "code",
   "execution_count": 2,
   "id": "52d95dd9",
   "metadata": {},
   "outputs": [],
   "source": [
    "import os\n",
    "import json\n",
    "from openai import OpenAI\n",
    "import gradio as gr"
   ]
  },
  {
   "cell_type": "code",
   "execution_count": 9,
   "id": "2c8093be",
   "metadata": {},
   "outputs": [],
   "source": [
    "# Creating llama model and needed Constants\n",
    "Ollama_url = \"http://localhost:11434/v1\"\n",
    "ollama_api_key = \"ollama\"\n",
    "\n",
    "llama_model = 'llama3.1'\n",
    "\n",
    "ollama = OpenAI(base_url=Ollama_url, api_key=ollama_api_key)\n"
   ]
  },
  {
   "cell_type": "code",
   "execution_count": 58,
   "id": "fb5e1c15",
   "metadata": {},
   "outputs": [],
   "source": [
    "system_message = \"You are a helpful assistant for an Airline named Latios Airlines\"\n",
    "system_message += \"Give short, courteous answers, no more than 1 sentence. \"\n",
    "system_message += \"Always be accurate. If you don't know the answer, say so and do not make up anything.\""
   ]
  },
  {
   "cell_type": "code",
   "execution_count": 20,
   "id": "3042bd5e",
   "metadata": {},
   "outputs": [],
   "source": [
    "def chat(message, history):\n",
    "    messages = [{\"role\":\"system\", \"content\":system_message}] + history + [{\"role\":\"user\", \"content\":message}]\n",
    "\n",
    "    response = ollama.chat.completions.create(model=llama_model, messages=messages)\n",
    "\n",
    "    return response.choices[0].message.content"
   ]
  },
  {
   "cell_type": "code",
   "execution_count": 22,
   "id": "a0d320e8",
   "metadata": {},
   "outputs": [
    {
     "name": "stdout",
     "output_type": "stream",
     "text": [
      "* Running on local URL:  http://127.0.0.1:7865\n",
      "* To create a public link, set `share=True` in `launch()`.\n"
     ]
    },
    {
     "data": {
      "text/html": [
       "<div><iframe src=\"http://127.0.0.1:7865/\" width=\"100%\" height=\"500\" allow=\"autoplay; camera; microphone; clipboard-read; clipboard-write;\" frameborder=\"0\" allowfullscreen></iframe></div>"
      ],
      "text/plain": [
       "<IPython.core.display.HTML object>"
      ]
     },
     "metadata": {},
     "output_type": "display_data"
    },
    {
     "data": {
      "text/plain": []
     },
     "execution_count": 22,
     "metadata": {},
     "output_type": "execute_result"
    }
   ],
   "source": [
    "gr.ChatInterface(fn=chat, type=\"messages\").launch()"
   ]
  },
  {
   "cell_type": "markdown",
   "id": "4a56eb28",
   "metadata": {},
   "source": [
    "## Tools\n",
    "\n",
    "Tools are an incredibly powerful feature provided by the frontier LLMs.\n",
    "\n",
    "With tools, you can write a function, and have the LLM call that function as part of its response.\n"
   ]
  },
  {
   "cell_type": "code",
   "execution_count": 65,
   "id": "f883afeb",
   "metadata": {},
   "outputs": [],
   "source": [
    "# Create a function that returns ticket price from a dictionary\n",
    "\n",
    "ticket_price = {\"london\": \"$799\", \"paris\": \"$899\", \"tokyo\": \"$1400\", \"berlin\": \"$499\"}\n",
    "\n",
    "def get_ticket_price(destination_city):\n",
    "    print(f\"Tool that gets ticket price for {destination_city}\")\n",
    "    if destination_city != None:\n",
    "        city = destination_city.strip().lower()\n",
    "    \n",
    "    return ticket_price.get(city, \"Unknown\")"
   ]
  },
  {
   "cell_type": "code",
   "execution_count": 69,
   "id": "7ccfc28e",
   "metadata": {},
   "outputs": [
    {
     "name": "stdout",
     "output_type": "stream",
     "text": [
      "Tool that gets ticket price for yes\n"
     ]
    },
    {
     "data": {
      "text/plain": [
       "'Unknown'"
      ]
     },
     "execution_count": 69,
     "metadata": {},
     "output_type": "execute_result"
    }
   ],
   "source": [
    "get_ticket_price(\"yes\")"
   ]
  },
  {
   "cell_type": "code",
   "execution_count": 63,
   "id": "c7464052",
   "metadata": {},
   "outputs": [],
   "source": [
    "# Tool -> Dictionary Structure that is required to describe the function \n",
    "# Give an example for the llm is a good to helpthe llm \n",
    "price_function = {\n",
    "    \"name\" : \"get_ticket_price\",\n",
    "    \"description\": \"Get the price of a return ticket to the destination city. Call this whenever you need to know the ticket price, for example when a customer asks 'How much is a ticket to this city'\",\n",
    "    \"parameters\":{\n",
    "        \"type\":\"object\",\n",
    "        \"properties\" : {\n",
    "            \"destination_city\": {\n",
    "                \"type\": \"string\", \n",
    "                \"description\":\"City the customer wants to travel to\",\n",
    "            },\n",
    "        },\n",
    "        \"required\": [\"destination_ctiy\"],\n",
    "        \"additionalProperties\":False\n",
    "    }\n",
    "}"
   ]
  },
  {
   "cell_type": "code",
   "execution_count": 44,
   "id": "ff66a032",
   "metadata": {},
   "outputs": [],
   "source": [
    "tools = [{\"type\":\"function\", \"function\": price_function}]"
   ]
  },
  {
   "cell_type": "markdown",
   "id": "62e9c9e5",
   "metadata": {},
   "source": [
    "# Getting OpenAI to use the Tool\n",
    "\n",
    "set up a function for the LLM to call the tool function I created"
   ]
  },
  {
   "cell_type": "code",
   "execution_count": 70,
   "id": "e1d28a80",
   "metadata": {},
   "outputs": [],
   "source": [
    "#unpacks the message from llm \n",
    "def handle_tool_call(message):\n",
    "    tool_call = message.tool_calls[0]\n",
    "    arguments = json.loads(tool_call.function.arguments)\n",
    "    city = arguments.get(\"destination_city\")\n",
    "    price = get_ticket_price(city)\n",
    "    response = {\n",
    "        \"role\":\"tool\",\n",
    "        \"content\": json.dumps({\"destination_city\":city, \"price\": price}),\n",
    "        \"tool_call_id\": tool_call.id\n",
    "    }\n",
    "    return response, city\n"
   ]
  },
  {
   "cell_type": "code",
   "execution_count": 71,
   "id": "ea1dd352",
   "metadata": {},
   "outputs": [],
   "source": [
    "def chat(message, history):\n",
    "    messages = [{\"role\":\"system\", \"content\":system_message}] + history + [{\"role\":\"user\", \"content\":message}]\n",
    "\n",
    "    response = ollama.chat.completions.create(model=llama_model, messages=messages, tools=tools, tool_choice=\"auto\")\n",
    "    #if response contains need for tool then\n",
    "    if response.choices[0].finish_reason == \"tool_calls\":\n",
    "        message = response.choices[0].message\n",
    "        #unpack message from llm and return result\n",
    "        response,city = handle_tool_call(message)\n",
    "        messages.append(message)\n",
    "        messages.append(response)\n",
    "\n",
    "        response = ollama.chat.completions.create(model=llama_model, messages=messages)\n",
    "    return response.choices[0].message.content"
   ]
  },
  {
   "cell_type": "code",
   "execution_count": null,
   "id": "f003e8a8",
   "metadata": {},
   "outputs": [
    {
     "name": "stdout",
     "output_type": "stream",
     "text": [
      "* Running on local URL:  http://127.0.0.1:7875\n",
      "* To create a public link, set `share=True` in `launch()`.\n"
     ]
    },
    {
     "data": {
      "text/html": [
       "<div><iframe src=\"http://127.0.0.1:7875/\" width=\"100%\" height=\"500\" allow=\"autoplay; camera; microphone; clipboard-read; clipboard-write;\" frameborder=\"0\" allowfullscreen></iframe></div>"
      ],
      "text/plain": [
       "<IPython.core.display.HTML object>"
      ]
     },
     "metadata": {},
     "output_type": "display_data"
    },
    {
     "data": {
      "text/plain": []
     },
     "execution_count": 72,
     "metadata": {},
     "output_type": "execute_result"
    },
    {
     "name": "stdout",
     "output_type": "stream",
     "text": [
      "Tool that gets ticket price for N/A\n",
      "Tool that gets ticket price for Tokyo\n",
      "Tool that gets ticket price for Hoen\n",
      "Tool that gets ticket price for Hawaii\n",
      "Tool that gets ticket price for Tokyo\n",
      "Tool that gets ticket price for Tokyo\n",
      "Tool that gets ticket price for Honolulu\n",
      "Tool that gets ticket price for Berlin\n"
     ]
    }
   ],
   "source": [
    "gr.ChatInterface(fn=chat, type=\"messages\").launch()"
   ]
  },
  {
   "cell_type": "code",
   "execution_count": null,
   "id": "6f09037a",
   "metadata": {},
   "outputs": [],
   "source": []
  },
  {
   "cell_type": "markdown",
   "id": "91819912",
   "metadata": {},
   "source": [
    "# Multi-Modal GenAI\n",
    "\n",
    "- OpenAI offers API calls with the capability for image generation and Audio Generation.\n",
    "- Note: Cost associated with Generating images are a bit more for the OpenAI api about 4 cents per image\n",
    "\n",
    "#### Images\n",
    "Below is an example function for generating images of a city\n",
    "```\n",
    "def artist(city):\n",
    "    image_response = openai.images.generate(\n",
    "            model=\"dall-e-3\",\n",
    "            prompt=f\"An image representing a vacation in {city}, showing tourist spots and everything unique about {city}, in a vibrant pop-art style\",\n",
    "            size=\"1024x1024\",\n",
    "            n=1,\n",
    "            response_format=\"b64_json\",\n",
    "        )\n",
    "    image_base64 = image_response.data[0].b64_json\n",
    "    image_data = base64.b64decode(image_base64)\n",
    "    return Image.open(BytesIO(image_data))\n",
    "```\n",
    "\n",
    "#### Audio\n",
    "Below is an example function for Audio Generation\n",
    "```\n",
    "from pydub import AudioSegment\n",
    "from pydub.playback import play\n",
    "\n",
    "def talker(message):\n",
    "    response = openai.audio.speech.create(\n",
    "      model=\"tts-1\",\n",
    "      voice=\"onyx\",    # Also, try replacing onyx with alloy\n",
    "      input=message\n",
    "    )\n",
    "    \n",
    "    audio_stream = BytesIO(response.content)\n",
    "    audio = AudioSegment.from_file(audio_stream, format=\"mp3\")\n",
    "    play(audio)\n",
    "```\n",
    "\n",
    "\n"
   ]
  }
 ],
 "metadata": {
  "kernelspec": {
   "display_name": "llms",
   "language": "python",
   "name": "python3"
  },
  "language_info": {
   "codemirror_mode": {
    "name": "ipython",
    "version": 3
   },
   "file_extension": ".py",
   "mimetype": "text/x-python",
   "name": "python",
   "nbconvert_exporter": "python",
   "pygments_lexer": "ipython3",
   "version": "3.13.5"
  }
 },
 "nbformat": 4,
 "nbformat_minor": 5
}
