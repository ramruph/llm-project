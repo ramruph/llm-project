{
 "cells": [
  {
   "cell_type": "markdown",
   "id": "855f4224",
   "metadata": {},
   "source": [
    "# Business Challenge\n",
    "- Create a product that builds a Brochure for a company to be used for prospective clients, investors and potential recruits\n",
    "- provide a company name and their primary website"
   ]
  },
  {
   "cell_type": "code",
   "execution_count": 1,
   "id": "6111f098",
   "metadata": {},
   "outputs": [],
   "source": [
    "import os\n",
    "import requests\n",
    "import json\n",
    "from typing import List\n",
    "from bs4 import BeautifulSoup\n",
    "from IPython.display import Markdown, display, update_display \n",
    "from openai import OpenAI"
   ]
  },
  {
   "cell_type": "code",
   "execution_count": null,
   "id": "a008e495",
   "metadata": {},
   "outputs": [],
   "source": []
  }
 ],
 "metadata": {
  "kernelspec": {
   "display_name": "llms",
   "language": "python",
   "name": "python3"
  },
  "language_info": {
   "codemirror_mode": {
    "name": "ipython",
    "version": 3
   },
   "file_extension": ".py",
   "mimetype": "text/x-python",
   "name": "python",
   "nbconvert_exporter": "python",
   "pygments_lexer": "ipython3",
   "version": "3.13.5"
  }
 },
 "nbformat": 4,
 "nbformat_minor": 5
}
