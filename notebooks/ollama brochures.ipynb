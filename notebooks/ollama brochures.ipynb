{
 "cells": [
  {
   "cell_type": "markdown",
   "id": "855f4224",
   "metadata": {},
   "source": [
    "# Business Challenge\n",
    "- Create a product that builds a Brochure for a company to be used for prospective clients, investors and potential recruits\n",
    "- provide a company name and their primary website"
   ]
  },
  {
   "cell_type": "code",
   "execution_count": 1,
   "id": "6111f098",
   "metadata": {},
   "outputs": [],
   "source": [
    "import os\n",
    "import requests\n",
    "import json\n",
    "from typing import List\n",
    "from bs4 import BeautifulSoup\n",
    "from IPython.display import Markdown, display, update_display \n",
    "from openai import OpenAI"
   ]
  },
  {
   "cell_type": "code",
   "execution_count": 2,
   "id": "a008e495",
   "metadata": {},
   "outputs": [],
   "source": [
    "#initializing constants\n",
    "llama_api = \"http://localhost:11434/api/chat\"\n",
    "Headers = {\"Content-Type\": \"application/json\"}\n",
    "Model = \"llama3.1\""
   ]
  },
  {
   "cell_type": "code",
   "execution_count": 4,
   "id": "ae9f0dbb",
   "metadata": {},
   "outputs": [],
   "source": [
    "# Utility Class - Expand on website class from ollam website summary project\n",
    "class Website:\n",
    "\n",
    "    def __init__(self, url):\n",
    "        self.url = url\n",
    "\n",
    "        response = requests.get(url)\n",
    "        #return content from url \n",
    "        self.body = response.content\n",
    "        soup = BeautifulSoup(response.content, 'html.parser')\n",
    "\n",
    "        self.title = soup.title.string if soup.title else \"No Title\"\n",
    "\n",
    "        if soup.body:\n",
    "            # remove unneeded objects from scrape for summarization\n",
    "            for irrelevant_objects in soup.body([\"script\", \"style\", \"img\", \"input\"]):\n",
    "                irrelevant_objects.decompose()\n",
    "            self.text = soup.body.get_text(seperator=\"\\n\", strip=True)\n",
    "        else:\n",
    "            self.text = \"\"\n",
    "        links = [links.get('href') for link in soup.find_all('a')]\n",
    "        self.links = [link for link in links if link] #Build a new list with only the truthy (non-empty, non-None, non-zero) items from links\n",
    "\n",
    "    def get_content(self):\n",
    "        return f\"Webpage Title:\\n{self.title}\\n Webpage Contents:\\n{self.text}\\n\\n\""
   ]
  },
  {
   "cell_type": "code",
   "execution_count": null,
   "id": "9f34eb0b",
   "metadata": {},
   "outputs": [],
   "source": []
  }
 ],
 "metadata": {
  "kernelspec": {
   "display_name": "llms",
   "language": "python",
   "name": "python3"
  },
  "language_info": {
   "codemirror_mode": {
    "name": "ipython",
    "version": 3
   },
   "file_extension": ".py",
   "mimetype": "text/x-python",
   "name": "python",
   "nbconvert_exporter": "python",
   "pygments_lexer": "ipython3",
   "version": "3.13.5"
  }
 },
 "nbformat": 4,
 "nbformat_minor": 5
}
