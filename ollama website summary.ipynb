{
 "cells": [
  {
   "cell_type": "markdown",
   "id": "3c17c709",
   "metadata": {},
   "source": [
    "## Recap on installation of Ollama\n",
    "\n",
    "Simply visit [ollama.com](https://ollama.com) and install!\n",
    "\n",
    "Once complete, the ollama server should already be running locally.  \n",
    "Visit:  [http://localhost:11434/](http://localhost:11434/)\n",
    "\n",
    "You should see the message `Ollama is running`.  \n",
    "\n",
    "If not, bring up a new Terminal (Mac) or Powershell (Windows) and enter `ollama serve`  \n",
    "And in another Terminal (Mac) or Powershell (Windows), enter `ollama pull llama3.2`  \n",
    "Then try [http://localhost:11434/](http://localhost:11434/) again.\n",
    "\n",
    "If Ollama is slow on your machine, try using `llama3.2:1b` as an alternative. Run `ollama pull llama3.2:1b` from a Terminal or Powershell, and change the code below from `MODEL = \"llama3.2\"` to `MODEL = \"llama3.2:1b\"`"
   ]
  },
  {
   "cell_type": "code",
   "execution_count": 12,
   "id": "c018aa6b",
   "metadata": {},
   "outputs": [],
   "source": [
    "import requests\n",
    "from bs4 import BeautifulSoup\n",
    "from IPython.display import Markdown, display\n",
    "from openai import OpenAI"
   ]
  },
  {
   "cell_type": "code",
   "execution_count": 2,
   "id": "9e80f06c",
   "metadata": {},
   "outputs": [],
   "source": [
    "# Ollama Constants\n",
    "\n",
    "# Local llama 3.1 8B model that I downloaded \n",
    "Ollama_api = \"http://localhost:11434/api/chat\"\n",
    "\n",
    "Headers = {\"Content-Type\": \"application/json\"}\n",
    "\n",
    "Model = \"llama3.1\""
   ]
  },
  {
   "cell_type": "code",
   "execution_count": 3,
   "id": "9f9d2b01",
   "metadata": {},
   "outputs": [],
   "source": [
    "# Create message list using the same format like OpenAI call\n",
    "messages = [\n",
    "    {\"role\": \"user\", \"content\": \"Describe some business applications for Generative AI\"}\n",
    "]"
   ]
  },
  {
   "cell_type": "code",
   "execution_count": 4,
   "id": "cca46dd3",
   "metadata": {},
   "outputs": [],
   "source": [
    "payload = {\n",
    "    \"model\": Model,\n",
    "    \"messages\":messages, \n",
    "    \"stream\" : False\n",
    "}"
   ]
  },
  {
   "cell_type": "code",
   "execution_count": 5,
   "id": "087103b1",
   "metadata": {},
   "outputs": [
    {
     "name": "stdout",
     "output_type": "stream",
     "text": [
      "Generative AI has a wide range of business applications across various industries. Here are some examples:\n",
      "\n",
      "1. **Content Generation**:\n",
      "\t* Automated content creation: news articles, blog posts, social media posts.\n",
      "\t* Product descriptions and marketing materials.\n",
      "\t* Personalized emails and newsletters.\n",
      "2. **Advertising and Marketing**:\n",
      "\t* Generative AI can create personalized ads based on user behavior and preferences.\n",
      "\t* Ad copywriting and creative asset generation (e.g., images, videos).\n",
      "\t* Predictive modeling for ad effectiveness and targeting.\n",
      "3. **Customer Service and Support**:\n",
      "\t* Automated chatbots that can understand and respond to customer queries.\n",
      "\t* Personalized support messages and recommendations.\n",
      "\t* Predictive modeling for identifying high-risk customers.\n",
      "4. **Creative Industries**:\n",
      "\t* Music composition and production.\n",
      "\t* Art and design generation (e.g., paintings, graphics).\n",
      "\t* Video editing and post-production automation.\n",
      "5. **Data Analysis and Visualization**:\n",
      "\t* Automated data visualization tools for business intelligence and reporting.\n",
      "\t* Predictive modeling and forecasting.\n",
      "\t* Identification of trends and patterns in large datasets.\n",
      "6. **Language Translation and Localization**:\n",
      "\t* Real-time language translation services.\n",
      "\t* Automated localization of text, audio, and video content.\n",
      "7. **Digital Product Development**:\n",
      "\t* Generative AI can assist in product design, development, and testing.\n",
      "\t* Recommendation systems for personalized product suggestions.\n",
      "8. **Risk Management and Compliance**:\n",
      "\t* Predictive modeling for identifying potential security threats.\n",
      "\t* Automated compliance reporting and document generation.\n",
      "9. **Supply Chain Optimization**:\n",
      "\t* Demand forecasting and inventory management.\n",
      "\t* Route optimization and logistics planning.\n",
      "10. **Education and Training**:\n",
      "\t* Personalized learning platforms with adaptive content generation.\n",
      "\t* Automated grading and feedback systems.\n",
      "\n",
      "Some notable companies that are leveraging Generative AI include:\n",
      "\n",
      "1. Google (e.g., Bard, a conversational AI chatbot).\n",
      "2. Meta Platforms (e.g., AI-powered content moderation).\n",
      "3. Microsoft (e.g., Azure Machine Learning, a cloud-based platform for building and deploying machine learning models).\n",
      "4. Amazon (e.g., SageMaker, a fully managed service for building, training, and deploying machine learning models).\n",
      "\n",
      "These applications are just the beginning, as Generative AI continues to evolve and improve.\n"
     ]
    }
   ],
   "source": [
    "response = requests.post(Ollama_api, json=payload, headers=Headers)\n",
    "\n",
    "#print response\n",
    "print(response.json()['message']['content'])"
   ]
  },
  {
   "cell_type": "markdown",
   "id": "cd5e1c96",
   "metadata": {},
   "source": [
    "## Note\n",
    "I am essentially making an API request to my computer that is running ollama on a localhost server that is running on the same computer since we downloaded the model ollama 3.1 8B and returning the results from that api call. \n",
    "\n",
    "Below is also the same thing, but using the ollama python package instead of a direct HTTP call. Under the hood, it's making the same call as above to the ollama server running at localhost:11434"
   ]
  },
  {
   "cell_type": "code",
   "execution_count": 7,
   "id": "12ebbffe",
   "metadata": {},
   "outputs": [
    {
     "name": "stdout",
     "output_type": "stream",
     "text": [
      "Collecting ollama\n",
      "  Using cached ollama-0.5.3-py3-none-any.whl.metadata (4.3 kB)\n",
      "Requirement already satisfied: httpx>=0.27 in /opt/anaconda3/envs/llms/lib/python3.13/site-packages (from ollama) (0.28.1)\n",
      "Requirement already satisfied: pydantic>=2.9 in /opt/anaconda3/envs/llms/lib/python3.13/site-packages (from ollama) (2.11.7)\n",
      "Requirement already satisfied: anyio in /opt/anaconda3/envs/llms/lib/python3.13/site-packages (from httpx>=0.27->ollama) (4.7.0)\n",
      "Requirement already satisfied: certifi in /opt/anaconda3/envs/llms/lib/python3.13/site-packages (from httpx>=0.27->ollama) (2025.8.3)\n",
      "Requirement already satisfied: httpcore==1.* in /opt/anaconda3/envs/llms/lib/python3.13/site-packages (from httpx>=0.27->ollama) (1.0.9)\n",
      "Requirement already satisfied: idna in /opt/anaconda3/envs/llms/lib/python3.13/site-packages (from httpx>=0.27->ollama) (3.7)\n",
      "Requirement already satisfied: h11>=0.16 in /opt/anaconda3/envs/llms/lib/python3.13/site-packages (from httpcore==1.*->httpx>=0.27->ollama) (0.16.0)\n",
      "Requirement already satisfied: annotated-types>=0.6.0 in /opt/anaconda3/envs/llms/lib/python3.13/site-packages (from pydantic>=2.9->ollama) (0.6.0)\n",
      "Requirement already satisfied: pydantic-core==2.33.2 in /opt/anaconda3/envs/llms/lib/python3.13/site-packages (from pydantic>=2.9->ollama) (2.33.2)\n",
      "Requirement already satisfied: typing-extensions>=4.12.2 in /opt/anaconda3/envs/llms/lib/python3.13/site-packages (from pydantic>=2.9->ollama) (4.12.2)\n",
      "Requirement already satisfied: typing-inspection>=0.4.0 in /opt/anaconda3/envs/llms/lib/python3.13/site-packages (from pydantic>=2.9->ollama) (0.4.0)\n",
      "Requirement already satisfied: sniffio>=1.1 in /opt/anaconda3/envs/llms/lib/python3.13/site-packages (from anyio->httpx>=0.27->ollama) (1.3.0)\n",
      "Using cached ollama-0.5.3-py3-none-any.whl (13 kB)\n",
      "Installing collected packages: ollama\n",
      "Successfully installed ollama-0.5.3\n"
     ]
    }
   ],
   "source": [
    "!pip install ollama"
   ]
  },
  {
   "cell_type": "code",
   "execution_count": null,
   "id": "25f89d48",
   "metadata": {},
   "outputs": [
    {
     "name": "stdout",
     "output_type": "stream",
     "text": [
      "Generative AI has numerous applications in various industries, offering businesses opportunities to innovate and gain a competitive edge. Here are some of the key business applications of Generative AI:\n",
      "\n",
      "1. **Content Generation**: Generate high-quality content such as:\n",
      "\t* Blog posts\n",
      "\t* Social media posts\n",
      "\t* Product descriptions\n",
      "\t* Articles\n",
      "\t* Even entire books or research papers\n",
      "2. **Data Augmentation**: Enrich and diversify datasets by generating new, synthetic data that can be used for:\n",
      "\t* Training machine learning models\n",
      "\t* Data quality improvement\n",
      "\t* Data annotation\n",
      "3. **Product Design and Prototyping**: Generate designs, 3D models, and prototypes for products, such as:\n",
      "\t* Furniture design\n",
      "\t* Electronics\n",
      "\t* Automotive parts\n",
      "\t* Fashion clothing and accessories\n",
      "4. **Virtual Try-On and Styling**: Allow customers to virtually try on clothes, makeup, or accessories using AI-generated images.\n",
      "5. **Personalized Product Recommendations**: Generate tailored product recommendations based on customer preferences, behavior, and purchase history.\n",
      "6. **Customer Service Chatbots**: Create chatbots that can respond to complex queries in a human-like manner, providing faster and more accurate support.\n",
      "7. **Speech Generation**: Generate text-to-speech or voiceovers for videos, podcasts, or audiobooks, making content more accessible and engaging.\n",
      "8. **Music Composition and Audio Generation**: Compose original music or generate sound effects, making it easier to create engaging audio experiences.\n",
      "9. **Marketing and Advertising**: Use Generative AI to:\n",
      "\t* Generate targeted ads\n",
      "\t* Create personalized marketing campaigns\n",
      "\t* Develop brand voices and tone\n",
      "10. **Predictive Maintenance and Quality Control**: Analyze data and predict equipment failures or quality issues in manufacturing, enabling proactive maintenance and quality control.\n",
      "11. **Language Translation and Localization**: Automatically translate content into multiple languages, making it easier to expand globally.\n",
      "12. **Video Generation**: Create high-quality videos for marketing, training, or education purposes, such as:\n",
      "\t* Explainer videos\n",
      "\t* Product demos\n",
      "\t* Training tutorials\n",
      "13. **Medical Imaging Analysis**: Generate synthetic medical images for training and testing AI models in healthcare.\n",
      "14. **Financial Forecasting and Risk Management**: Analyze large datasets to predict market trends, identify risks, and make informed investment decisions.\n",
      "15. **Cybersecurity Threat Detection**: Identify potential threats by generating simulated attack scenarios and analyzing network behavior.\n",
      "\n",
      "These applications showcase the vast potential of Generative AI to transform various industries and drive business innovation. As this technology continues to evolve, we can expect even more exciting use cases and applications in the future!\n"
     ]
    }
   ],
   "source": [
    "import ollama\n",
    "\n",
    "response = ollama.chat(model=Model, messages=messages)\n",
    "print(response['message']['content'])"
   ]
  },
  {
   "cell_type": "markdown",
   "id": "3e0bd65e",
   "metadata": {},
   "source": [
    "### Note: You can use OpenAI python Library to connect to Ollama model locally \n",
    "\n",
    "The python class `OpenAI` is simply code written by OpenAI engineers that makes calls over the internet to an endpoint.  \n",
    "\n",
    "When you call `openai.chat.completions.create()`, this python code just makes a web request to the following url: \"https://api.openai.com/v1/chat/completions\"\n",
    "\n",
    "Code like this is known as a \"client library\" - it's just wrapper code that runs on your machine to make web requests. The actual power of GPT is running on OpenAI's cloud behind this API, not on your computer!\n",
    "\n",
    "OpenAI was so popular, that lots of other AI providers provided identical web endpoints, so you could use the same approach.\n",
    "\n",
    "So Ollama has an endpoint running on your local box at http://localhost:11434/v1/chat/completions  \n",
    "And in week 2 we'll discover that lots of other providers do this too, including Gemini and DeepSeek.\n",
    "\n",
    "And then the team at OpenAI had a great idea: they can extend their client library so you can specify a different 'base url', and use their library to call any compatible API.\n",
    "\n",
    "That's it!\n",
    "\n",
    "So when you say: `ollama_via_openai = OpenAI(base_url='http://localhost:11434/v1', api_key='ollama')`  \n",
    "Then this will make the same endpoint calls, but to Ollama instead of OpenAI."
   ]
  },
  {
   "cell_type": "code",
   "execution_count": 13,
   "id": "1133782b",
   "metadata": {},
   "outputs": [
    {
     "name": "stdout",
     "output_type": "stream",
     "text": [
      "Generative AI has numerous business applications across various industries. Here are some examples:\n",
      "\n",
      "1. **Content Generation**:\n",
      "\t* Automated content creation: Blogs, articles, social media posts, and product descriptions.\n",
      "\t* Chatbots: Answering customer inquiries, providing support, and assisting with transactions.\n",
      "\t* Personalized marketing materials: Tailored ad copy, email campaigns, and website content.\n",
      "2. **Creative Industries**:\n",
      "\t* Art and design: AI-generated artwork, graphic designs, and music compositions.\n",
      "\t* Video and film production: Scriptwriting, editing, and special effects.\n",
      "\t* Advertising and media: Ad concept development, animation creation, and campaign execution.\n",
      "3. **Data Analysis and Visualization**:\n",
      "\t* Data generation: Simulating real-world data for testing and training AI models.\n",
      "\t* Custom data visualization: Tailored charts, graphs, and dashboards for business insights.\n",
      "\t* Anomaly detection: Identifying unusual patterns or outliers in datasets.\n",
      "4. **Virtual Product Design**:\n",
      "\t* Computer-aided design (CAD): Automated product modeling, simulation, and optimization.\n",
      "\t* Fashion design: AI-generated clothing designs, textiles, and accessories.\n",
      "\t* Architecture and construction: Building design, layout optimization, and structural analysis.\n",
      "5. **Customer Experience and Service**:\n",
      "\t* Virtual assistants: Supporting customers with tasks, transactions, and inquiries.\n",
      "\t* Conversational interfaces: Chatbots, voice AI, and interactive storytelling.\n",
      "\t* Personalized recommendations: Custom product suggestions based on user behavior and preferences.\n",
      "6. **Education and Training**:\n",
      "\t* Adaptive learning platforms: AI-powered course creation, customization, and grading.\n",
      "\t* Virtual instructors: Interactive lesson delivery, simulation-based training, and competency assessment.\n",
      "\t* Virtual mentorship programs: One-on-one guidance for students, trainees, or professionals.\n",
      "7. **Marketing and Advertising**:\n",
      "\t* Brand persona generation: AI-created character profiles for targeted advertising.\n",
      "\t* Customer segmentation: Identifying unique customer groups based on behavior, preferences, and demographics.\n",
      "\t* A/B testing and campaign optimization: Data-driven decision-making for ad creative, targeting, and budget allocation.\n",
      "8. **Finance and Accounting**:\n",
      "\t* Financial forecasting and planning: Predictive analytics for financial projections and scenario modeling.\n",
      "\t* Tax planning and compliance: AI-generated tax returns, audited reports, and regulatory documentation.\n",
      "\t* Credit risk assessment: Predicting loan defaults, creditworthiness, and financial stability.\n",
      "\n",
      "These examples illustrate the vast potential of generative AI in various industries. However, as with any innovative technology, it's essential to consider the challenges and limitations of implementing these capabilities, such as data quality, bias, and regulatory compliance issues.\n",
      "\n",
      "Additional considerations for organizations exploring generative AI include:\n",
      "\n",
      "* Establishing clear goals, objectives, and metrics for success.\n",
      "* Conducting thorough feasibility studies and risk assessments.\n",
      "* Developing talent acquisition strategies to onboard staff familiar with AI and machine learning principles.\n",
      "* Integrating human oversight and review processes to ensure high-quality outputs.\n"
     ]
    }
   ],
   "source": [
    "# You can use OpenAI python library\n",
    "ollama_via_openai = OpenAI(base_url='http://localhost:11434/v1', api_key='ollama')\n",
    "\n",
    "response = ollama_via_openai.chat.completions.create(\n",
    "    model=Model,\n",
    "    messages=messages\n",
    ")\n",
    "\n",
    "print(response.choices[0].message.content)\n"
   ]
  },
  {
   "cell_type": "markdown",
   "id": "28611cd6",
   "metadata": {},
   "source": [
    "# Website Summarizer using Ollama 3.1"
   ]
  },
  {
   "cell_type": "code",
   "execution_count": 15,
   "id": "4ae5b618",
   "metadata": {},
   "outputs": [],
   "source": [
    "# create website scraping class \n",
    "\n",
    "class Website_Scrapper:\n",
    "\n",
    "    def __init__(self, url):\n",
    "\n",
    "        self.url = url\n",
    "\n",
    "        response = requests.get(url)\n",
    "        soup = BeautifulSoup(response.content, 'html.parser')\n",
    "\n",
    "        self.title = soup.title.string if soup.title else \"No title\"\n",
    "\n",
    "        # remove unneeded objects from scrape for summarization\n",
    "        for irrelevant_objects in soup.body([\"script\", \"style\", \"img\", \"input\"]):\n",
    "            irrelevant_objects.decompse()\n",
    "        \n",
    "        self.text = soup.body.get_text(separator=\"\\n\", strip=True)\n"
   ]
  },
  {
   "cell_type": "code",
   "execution_count": null,
   "id": "fbedc55e",
   "metadata": {},
   "outputs": [],
   "source": []
  }
 ],
 "metadata": {
  "kernelspec": {
   "display_name": "llms",
   "language": "python",
   "name": "python3"
  },
  "language_info": {
   "codemirror_mode": {
    "name": "ipython",
    "version": 3
   },
   "file_extension": ".py",
   "mimetype": "text/x-python",
   "name": "python",
   "nbconvert_exporter": "python",
   "pygments_lexer": "ipython3",
   "version": "3.13.5"
  }
 },
 "nbformat": 4,
 "nbformat_minor": 5
}
